{
 "cells": [
  {
   "cell_type": "code",
   "execution_count": 1,
   "metadata": {
    "scrolled": true
   },
   "outputs": [],
   "source": [
    "import numpy as np\n",
    "import pandas as pd\n",
    "import scipy.sparse as sp\n",
    "import pickle as pkl\n",
    "import json\n"
   ]
  },
  {
   "cell_type": "code",
   "execution_count": null,
   "metadata": {},
   "outputs": [],
   "source": [
    "source = pd.read_csv('./user_concept.csv',header=0,index_col=0)\n",
    "data = source.values\n",
    "print(data.shape)"
   ]
  },
  {
   "cell_type": "code",
   "execution_count": 2,
   "metadata": {},
   "outputs": [],
   "source": [
    "user_list = source.index.tolist()\n",
    "concept_list = source.columns.tolist()"
   ]
  },
  {
   "cell_type": "code",
   "execution_count": 3,
   "metadata": {},
   "outputs": [
    {
     "name": "stdout",
     "output_type": "stream",
     "text": [
      "37128\n",
      "{'course_id': 'course-v1:TsinghuaX+30240184+sp', 'message': '操作系统', 'video_id': 'b2efbeccf7fb4c4cbe913e728144a644', 'user_id': '87', 'time': {'$date': 1513015162778}}\n"
     ]
    }
   ],
   "source": [
    "user_action = []\n",
    "with open('./concept_click.json','r',encoding='utf8') as action_source:\n",
    "    actions = json.load(action_source)\n",
    "print(len(actions))\n",
    "print(actions[0])"
   ]
  },
  {
   "cell_type": "markdown",
   "metadata": {},
   "source": [
    "#### 根据点击历史构建user行为至少4个的用户的行为\n",
    "字典类型，同时将用户列表、概念列表转化为数字表示，去信息化"
   ]
  },
  {
   "cell_type": "code",
   "execution_count": 4,
   "metadata": {
    "scrolled": true
   },
   "outputs": [
    {
     "name": "stdout",
     "output_type": "stream",
     "text": [
      "[322, 33, 389, 95]\n",
      "[157, 389, 481, 160]\n",
      "[357, 128, 701, 93]\n",
      "[175, 9, 62, 55]\n",
      "[456, 456, 96, 159]\n",
      "[475, 389, 518, 46]\n",
      "2136\n",
      "[18, 20, 34, 55, 10]\n"
     ]
    }
   ],
   "source": [
    "user_action = {}\n",
    "for u in range(len(user_list)):\n",
    "    user = []\n",
    "    for a in actions:\n",
    "        if a['user_id'] == str(user_list[u]):\n",
    "            if a['message'] in concept_list:\n",
    "                user.append(concept_list.index(a['message']))\n",
    "    user_action[u] = user\n",
    "    if len(user) < 5:\n",
    "        print(user)\n",
    "print(len(user_action))\n",
    "print(user_action[87])"
   ]
  },
  {
   "cell_type": "code",
   "execution_count": 5,
   "metadata": {},
   "outputs": [],
   "source": [
    "file = open('./user_action.p','wb')\n",
    "pkl.dump(user_action,file)\n",
    "file.close()"
   ]
  },
  {
   "cell_type": "markdown",
   "metadata": {},
   "source": [
    "#### 构建rate-matrix\n",
    "len(user)行，len(concept)列\n",
    "\n",
    "默认不包含重复项，如果要包含重复项，请修改下面的代码"
   ]
  },
  {
   "cell_type": "code",
   "execution_count": 5,
   "metadata": {},
   "outputs": [],
   "source": [
    "row = []\n",
    "col = []\n",
    "dat = []\n",
    "for u in user_action:\n",
    "    for v in user_action[u]:\n",
    "        row.append(u)\n",
    "        col.append(v)\n",
    "        dat.append(1)\n",
    "rate_matrix = sp.coo_matrix((dat,(row,col)),shape=(len(user_list),len(concept_list)))\n",
    "rate_matrix = rate_matrix.tocsr()"
   ]
  },
  {
   "cell_type": "code",
   "execution_count": 6,
   "metadata": {},
   "outputs": [],
   "source": [
    "file = open('./rate_matrix.p','wb')\n",
    "pkl.dump(rate_matrix,file)\n",
    "file.close()"
   ]
  },
  {
   "cell_type": "markdown",
   "metadata": {},
   "source": [
    "#### 构建Adjacency matrix\n",
    "这里是去除最后一个user action的"
   ]
  },
  {
   "cell_type": "code",
   "execution_count": 12,
   "metadata": {},
   "outputs": [],
   "source": [
    "row = []\n",
    "col = []\n",
    "dat = []\n",
    "end = []\n",
    "for u in user_action:\n",
    "    end.append(user_action[u][-1])\n",
    "    for v in range(len(user_action[u])-1):\n",
    "        row.append(u)\n",
    "        col.append(user_action[u][v])\n",
    "        dat.append(1)\n",
    "adjacency_matrix = sp.coo_matrix((dat,(row,col)),shape=(len(user_list),len(concept_list)))\n",
    "adjacency_matrix = adjacency_matrix.tocsr()"
   ]
  },
  {
   "cell_type": "code",
   "execution_count": 14,
   "metadata": {},
   "outputs": [],
   "source": [
    "file = open('./adjacency_matrix.p','wb')\n",
    "pkl.dump(adjacency_matrix,file)\n",
    "file.close()\n",
    "file = open('./end_test.p','wb')\n",
    "pkl.dump(np.array(end),file)\n",
    "file.close()"
   ]
  },
  {
   "cell_type": "markdown",
   "metadata": {},
   "source": [
    "#### 构建user的feature\n",
    "这里先使用one-hot格式，之后换成更复杂的"
   ]
  },
  {
   "cell_type": "code",
   "execution_count": 9,
   "metadata": {},
   "outputs": [],
   "source": [
    "user_feature = sp.eye(len(user_list))"
   ]
  },
  {
   "cell_type": "code",
   "execution_count": 10,
   "metadata": {},
   "outputs": [],
   "source": [
    "file = open('./user_feature.p','wb')\n",
    "pkl.dump(user_feature,file)\n",
    "file.close()"
   ]
  },
  {
   "cell_type": "markdown",
   "metadata": {},
   "source": [
    "#### 构建concept-embedding\n",
    "现在使用word2vec生成的concept-embedding"
   ]
  },
  {
   "cell_type": "code",
   "execution_count": 12,
   "metadata": {},
   "outputs": [
    {
     "name": "stdout",
     "output_type": "stream",
     "text": [
      "2527\n"
     ]
    }
   ],
   "source": [
    "all_concept_embedding = []\n",
    "# with open('./all_concept_embedding.txt','r',encoding='utf8') as all_concept_embedding_source:\n",
    "#     line = all_concept_embedding_source.readline()\n",
    "#     while line:\n",
    "#         all_concept_embedding.append(line.strip())\n",
    "#         line = all_concept_embedding_source.readline()\n",
    "# print(len(all_concept_embedding))\n",
    "all_concept_embedding = np.loadtxt('./all_concept_embedding.txt')\n",
    "all_concept_list = []\n",
    "with open('./all_concepts_list.txt','r',encoding='utf8') as all_concept_list_source:\n",
    "    line =  all_concept_list_source.readline()\n",
    "    while line:\n",
    "        all_concept_list.append(line.strip())\n",
    "        line =  all_concept_list_source.readline()\n",
    "print(len(all_concept_list))"
   ]
  },
  {
   "cell_type": "code",
   "execution_count": 13,
   "metadata": {},
   "outputs": [
    {
     "name": "stdout",
     "output_type": "stream",
     "text": [
      "937\n"
     ]
    }
   ],
   "source": [
    "concept_embedding = []\n",
    "for c in concept_list:\n",
    "    concept_embedding.append(all_concept_embedding[all_concept_list.index(c)])\n",
    "print(len(concept_embedding))\n",
    "# print(concept_embedding[0])"
   ]
  },
  {
   "cell_type": "code",
   "execution_count": 14,
   "metadata": {},
   "outputs": [],
   "source": [
    "file = open('./concept_embedding.p','wb')\n",
    "pkl.dump(concept_embedding,file)\n",
    "file.close()"
   ]
  },
  {
   "cell_type": "markdown",
   "metadata": {},
   "source": [
    "#### 构建Adjacency matrix\n",
    "user-course的"
   ]
  },
  {
   "cell_type": "markdown",
   "metadata": {},
   "source": [
    "##### 首先去除敏感信息，变成数字代号"
   ]
  },
  {
   "cell_type": "code",
   "execution_count": 13,
   "metadata": {},
   "outputs": [],
   "source": [
    "with open('./course_list.p','rb') as source:\n",
    "    course_list = pkl.load(source)\n",
    "with open('./user_course.p','rb') as source:\n",
    "    user_course = pkl.load(source)\n",
    "\n",
    "user_course_num = {}\n",
    "for uc in user_course:\n",
    "    ucn = []\n",
    "    for c in user_course[uc]:\n",
    "        ucn.append(course_list.index(c))\n",
    "    user_course_num[uc] = ucn"
   ]
  },
  {
   "cell_type": "code",
   "execution_count": 22,
   "metadata": {},
   "outputs": [],
   "source": [
    "row = []\n",
    "col = []\n",
    "dat = []\n",
    "for u in user_course_num:\n",
    "    for c in user_course_num[u]:\n",
    "        row.append(u)\n",
    "        col.append(c)\n",
    "        dat.append(1)\n",
    "UC = sp.coo_matrix((dat,(row,col)),shape=(len(user_course_num),len(course_list)))\n",
    "UC = UC.tocsr()"
   ]
  },
  {
   "cell_type": "code",
   "execution_count": 26,
   "metadata": {},
   "outputs": [],
   "source": [
    "with open('./UC.p','wb') as source:\n",
    "    pkl.dump(UC,source)"
   ]
  },
  {
   "cell_type": "code",
   "execution_count": null,
   "metadata": {},
   "outputs": [],
   "source": []
  }
 ],
 "metadata": {
  "kernelspec": {
   "display_name": "Python 3",
   "language": "python",
   "name": "python3"
  },
  "language_info": {
   "codemirror_mode": {
    "name": "ipython",
    "version": 3
   },
   "file_extension": ".py",
   "mimetype": "text/x-python",
   "name": "python",
   "nbconvert_exporter": "python",
   "pygments_lexer": "ipython3",
   "version": "3.6.0"
  },
  "toc": {
   "base_numbering": 1,
   "nav_menu": {},
   "number_sections": true,
   "sideBar": true,
   "skip_h1_title": false,
   "title_cell": "Table of Contents",
   "title_sidebar": "Contents",
   "toc_cell": false,
   "toc_position": {},
   "toc_section_display": true,
   "toc_window_display": false
  }
 },
 "nbformat": 4,
 "nbformat_minor": 2
}
